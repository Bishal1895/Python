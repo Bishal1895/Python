{
 "cells": [
  {
   "cell_type": "code",
   "execution_count": 1,
   "id": "b30df4b4-6391-4136-952c-9276e05c2827",
   "metadata": {},
   "outputs": [
    {
     "data": {
      "text/plain": [
       "3"
      ]
     },
     "execution_count": 1,
     "metadata": {},
     "output_type": "execute_result"
    }
   ],
   "source": [
    "1+2"
   ]
  },
  {
   "cell_type": "code",
   "execution_count": 2,
   "id": "344ba153-489c-4192-b309-e8775834c226",
   "metadata": {},
   "outputs": [],
   "source": [
    "a = 10"
   ]
  },
  {
   "cell_type": "code",
   "execution_count": 3,
   "id": "51e71883-e74f-45a9-9a71-e3b985f67550",
   "metadata": {},
   "outputs": [
    {
     "data": {
      "text/plain": [
       "10"
      ]
     },
     "execution_count": 3,
     "metadata": {},
     "output_type": "execute_result"
    }
   ],
   "source": [
    "a"
   ]
  },
  {
   "cell_type": "code",
   "execution_count": 4,
   "id": "d814144b-fc74-404b-a578-1e19ef8bfba0",
   "metadata": {},
   "outputs": [],
   "source": [
    "bish = 1234567"
   ]
  },
  {
   "cell_type": "code",
   "execution_count": 5,
   "id": "b99216df-273d-4dd7-8d68-bb5e2f2594c8",
   "metadata": {},
   "outputs": [
    {
     "data": {
      "text/plain": [
       "1234567"
      ]
     },
     "execution_count": 5,
     "metadata": {},
     "output_type": "execute_result"
    }
   ],
   "source": [
    "bish"
   ]
  },
  {
   "cell_type": "code",
   "execution_count": 6,
   "id": "666b773e-2de3-4b15-926a-091c4a2574c2",
   "metadata": {},
   "outputs": [
    {
     "data": {
      "text/plain": [
       "int"
      ]
     },
     "execution_count": 6,
     "metadata": {},
     "output_type": "execute_result"
    }
   ],
   "source": [
    "type(bish)"
   ]
  },
  {
   "cell_type": "code",
   "execution_count": 20,
   "id": "8f233abe-4529-4382-af91-05d352eb6457",
   "metadata": {},
   "outputs": [],
   "source": [
    "s = \"pwskills\""
   ]
  },
  {
   "cell_type": "code",
   "execution_count": 21,
   "id": "7b1d0a01-370a-4912-a3db-a5c5cc55eaea",
   "metadata": {},
   "outputs": [
    {
     "data": {
      "text/plain": [
       "str"
      ]
     },
     "execution_count": 21,
     "metadata": {},
     "output_type": "execute_result"
    }
   ],
   "source": [
    "type(s)"
   ]
  },
  {
   "cell_type": "code",
   "execution_count": 22,
   "id": "c688cc38-08c1-46ff-b8c4-abf967384f8e",
   "metadata": {},
   "outputs": [
    {
     "data": {
      "text/plain": [
       "'pwskills'"
      ]
     },
     "execution_count": 22,
     "metadata": {},
     "output_type": "execute_result"
    }
   ],
   "source": [
    "s"
   ]
  },
  {
   "cell_type": "code",
   "execution_count": 10,
   "id": "aa8d8c0d-e09c-42c9-b59f-675565bdefa7",
   "metadata": {},
   "outputs": [],
   "source": [
    "s1 = 'this is my python lecture'"
   ]
  },
  {
   "cell_type": "code",
   "execution_count": 11,
   "id": "36b5c6ae-5b7c-43bc-9ef7-390e18bb10fc",
   "metadata": {},
   "outputs": [
    {
     "data": {
      "text/plain": [
       "'this is my python lecture'"
      ]
     },
     "execution_count": 11,
     "metadata": {},
     "output_type": "execute_result"
    }
   ],
   "source": [
    "s1"
   ]
  },
  {
   "cell_type": "code",
   "execution_count": 12,
   "id": "2cbce555-4ec8-4267-817a-87076265fddd",
   "metadata": {},
   "outputs": [
    {
     "data": {
      "text/plain": [
       "str"
      ]
     },
     "execution_count": 12,
     "metadata": {},
     "output_type": "execute_result"
    }
   ],
   "source": [
    "type(s1)"
   ]
  },
  {
   "cell_type": "code",
   "execution_count": 13,
   "id": "6026cb9e-090a-4101-bea6-8ffd70d8b861",
   "metadata": {},
   "outputs": [],
   "source": [
    "f = 456.676"
   ]
  },
  {
   "cell_type": "code",
   "execution_count": 14,
   "id": "753d64d4-734e-438a-98fa-9baf930fcb90",
   "metadata": {},
   "outputs": [
    {
     "data": {
      "text/plain": [
       "float"
      ]
     },
     "execution_count": 14,
     "metadata": {},
     "output_type": "execute_result"
    }
   ],
   "source": [
    "type(f)"
   ]
  },
  {
   "cell_type": "code",
   "execution_count": 15,
   "id": "f093f26c-63f4-4764-9ea4-d76c5022841b",
   "metadata": {},
   "outputs": [],
   "source": [
    "c = 5 + 6j"
   ]
  },
  {
   "cell_type": "code",
   "execution_count": 16,
   "id": "06ed91ad-7c87-49b3-85f6-36a742af8d21",
   "metadata": {},
   "outputs": [
    {
     "data": {
      "text/plain": [
       "complex"
      ]
     },
     "execution_count": 16,
     "metadata": {},
     "output_type": "execute_result"
    }
   ],
   "source": [
    "type(c)"
   ]
  },
  {
   "cell_type": "code",
   "execution_count": 17,
   "id": "ae341120-2628-4745-b25a-d30cbd16e695",
   "metadata": {},
   "outputs": [
    {
     "data": {
      "text/plain": [
       "(5+6j)"
      ]
     },
     "execution_count": 17,
     "metadata": {},
     "output_type": "execute_result"
    }
   ],
   "source": [
    "c"
   ]
  },
  {
   "cell_type": "code",
   "execution_count": 18,
   "id": "4d4454b3-450e-4163-a3eb-d50c5c534d8d",
   "metadata": {},
   "outputs": [
    {
     "data": {
      "text/plain": [
       "5.0"
      ]
     },
     "execution_count": 18,
     "metadata": {},
     "output_type": "execute_result"
    }
   ],
   "source": [
    "c.real"
   ]
  },
  {
   "cell_type": "code",
   "execution_count": 19,
   "id": "f2459bc9-ff84-44a3-9578-8d022fbf7b51",
   "metadata": {},
   "outputs": [
    {
     "data": {
      "text/plain": [
       "6.0"
      ]
     },
     "execution_count": 19,
     "metadata": {},
     "output_type": "execute_result"
    }
   ],
   "source": [
    "c.imag"
   ]
  },
  {
   "cell_type": "code",
   "execution_count": 23,
   "id": "c3948425-5eb8-4a49-ab87-4b0aec4689a2",
   "metadata": {},
   "outputs": [],
   "source": [
    "b = True"
   ]
  },
  {
   "cell_type": "code",
   "execution_count": 24,
   "id": "17027641-5efb-4b82-8fb6-1c0a4839df65",
   "metadata": {},
   "outputs": [
    {
     "data": {
      "text/plain": [
       "bool"
      ]
     },
     "execution_count": 24,
     "metadata": {},
     "output_type": "execute_result"
    }
   ],
   "source": [
    "type(b)"
   ]
  },
  {
   "cell_type": "code",
   "execution_count": 27,
   "id": "0d98dd2e-0b14-4a5f-bbb6-febc12fdd528",
   "metadata": {},
   "outputs": [],
   "source": [
    "b1 = False"
   ]
  },
  {
   "cell_type": "code",
   "execution_count": 28,
   "id": "8d9515bf-a063-4930-9379-a62416c044d5",
   "metadata": {},
   "outputs": [
    {
     "data": {
      "text/plain": [
       "False"
      ]
     },
     "execution_count": 28,
     "metadata": {},
     "output_type": "execute_result"
    }
   ],
   "source": [
    "b1"
   ]
  },
  {
   "cell_type": "code",
   "execution_count": 29,
   "id": "61d6df0a-037b-4c0f-957f-7e053f9e55dd",
   "metadata": {},
   "outputs": [
    {
     "data": {
      "text/plain": [
       "bool"
      ]
     },
     "execution_count": 29,
     "metadata": {},
     "output_type": "execute_result"
    }
   ],
   "source": [
    "type(b1)"
   ]
  },
  {
   "cell_type": "code",
   "execution_count": 30,
   "id": "d786dd29-52b0-4ed8-98be-86c08de2f76a",
   "metadata": {},
   "outputs": [],
   "source": [
    "a1 = 45"
   ]
  },
  {
   "cell_type": "code",
   "execution_count": 31,
   "id": "ffdbc1af-1b97-4031-8d24-8676f02a456c",
   "metadata": {},
   "outputs": [],
   "source": [
    "a2 = 34"
   ]
  },
  {
   "cell_type": "code",
   "execution_count": 32,
   "id": "17302c21-af9a-4e69-97a1-80b788f9a86a",
   "metadata": {},
   "outputs": [
    {
     "data": {
      "text/plain": [
       "79"
      ]
     },
     "execution_count": 32,
     "metadata": {},
     "output_type": "execute_result"
    }
   ],
   "source": [
    "a1+a2"
   ]
  },
  {
   "cell_type": "code",
   "execution_count": 33,
   "id": "c9c16d6e-15a4-45ee-9f5e-e13a8b37ed24",
   "metadata": {},
   "outputs": [
    {
     "data": {
      "text/plain": [
       "1530"
      ]
     },
     "execution_count": 33,
     "metadata": {},
     "output_type": "execute_result"
    }
   ],
   "source": [
    "a1*a2"
   ]
  },
  {
   "cell_type": "code",
   "execution_count": 34,
   "id": "d9e3efac-1801-4d39-953e-f13e758f8b2a",
   "metadata": {},
   "outputs": [
    {
     "data": {
      "text/plain": [
       "1.3235294117647058"
      ]
     },
     "execution_count": 34,
     "metadata": {},
     "output_type": "execute_result"
    }
   ],
   "source": [
    "a1/a2"
   ]
  },
  {
   "cell_type": "code",
   "execution_count": 35,
   "id": "5b6a22aa-0764-47a2-b70f-db587d0473b2",
   "metadata": {},
   "outputs": [
    {
     "data": {
      "text/plain": [
       "11"
      ]
     },
     "execution_count": 35,
     "metadata": {},
     "output_type": "execute_result"
    }
   ],
   "source": [
    "a1-a2"
   ]
  },
  {
   "cell_type": "code",
   "execution_count": 36,
   "id": "cd285ee5-ae5d-442c-996e-6418fc752c6a",
   "metadata": {},
   "outputs": [],
   "source": [
    "a1 , a2 = 34,45"
   ]
  },
  {
   "cell_type": "code",
   "execution_count": 37,
   "id": "831809d8-d7ca-479c-be55-1f917f269d4e",
   "metadata": {},
   "outputs": [
    {
     "data": {
      "text/plain": [
       "34"
      ]
     },
     "execution_count": 37,
     "metadata": {},
     "output_type": "execute_result"
    }
   ],
   "source": [
    "a1"
   ]
  },
  {
   "cell_type": "code",
   "execution_count": 38,
   "id": "fb1bf1e9-6e31-4244-8e9c-0941e74bbc19",
   "metadata": {},
   "outputs": [
    {
     "data": {
      "text/plain": [
       "45"
      ]
     },
     "execution_count": 38,
     "metadata": {},
     "output_type": "execute_result"
    }
   ],
   "source": [
    "a2"
   ]
  },
  {
   "cell_type": "code",
   "execution_count": 39,
   "id": "bbadaa3f-5a89-4465-8661-ae6a0d5071f4",
   "metadata": {},
   "outputs": [],
   "source": [
    "a,b,c,d = 345,'bish',34.34,True"
   ]
  },
  {
   "cell_type": "code",
   "execution_count": 40,
   "id": "ae84ffe8-ece6-408d-8676-f5de315347f7",
   "metadata": {},
   "outputs": [
    {
     "data": {
      "text/plain": [
       "345"
      ]
     },
     "execution_count": 40,
     "metadata": {},
     "output_type": "execute_result"
    }
   ],
   "source": [
    "a"
   ]
  },
  {
   "cell_type": "code",
   "execution_count": 41,
   "id": "9335af26-b7cb-47f0-a50f-9ddf18ea1162",
   "metadata": {},
   "outputs": [
    {
     "data": {
      "text/plain": [
       "'bish'"
      ]
     },
     "execution_count": 41,
     "metadata": {},
     "output_type": "execute_result"
    }
   ],
   "source": [
    "b"
   ]
  },
  {
   "cell_type": "code",
   "execution_count": 42,
   "id": "f108115c-ca70-41a3-be37-439a7419ae93",
   "metadata": {},
   "outputs": [
    {
     "data": {
      "text/plain": [
       "34.34"
      ]
     },
     "execution_count": 42,
     "metadata": {},
     "output_type": "execute_result"
    }
   ],
   "source": [
    "c"
   ]
  },
  {
   "cell_type": "code",
   "execution_count": 43,
   "id": "a625c69e-2532-4cab-a40b-729c16bb5326",
   "metadata": {},
   "outputs": [
    {
     "data": {
      "text/plain": [
       "True"
      ]
     },
     "execution_count": 43,
     "metadata": {},
     "output_type": "execute_result"
    }
   ],
   "source": [
    "d"
   ]
  },
  {
   "cell_type": "code",
   "execution_count": 44,
   "id": "df76e1bf-bca3-4e45-83db-2a59126bb183",
   "metadata": {},
   "outputs": [
    {
     "name": "stderr",
     "output_type": "stream",
     "text": [
      "UsageError: Line magic function `%a` not found.\n"
     ]
    }
   ],
   "source": [
    "%a = 234"
   ]
  },
  {
   "cell_type": "code",
   "execution_count": 45,
   "id": "bf8fbef0-6d2a-40ac-941e-79fada691a6b",
   "metadata": {},
   "outputs": [
    {
     "ename": "SyntaxError",
     "evalue": "invalid binary literal (1860067843.py, line 1)",
     "output_type": "error",
     "traceback": [
      "\u001b[0;36m  Cell \u001b[0;32mIn[45], line 1\u001b[0;36m\u001b[0m\n\u001b[0;31m    0b = 2342\u001b[0m\n\u001b[0m     ^\u001b[0m\n\u001b[0;31mSyntaxError\u001b[0m\u001b[0;31m:\u001b[0m invalid binary literal\n"
     ]
    }
   ],
   "source": [
    "0b = 2342"
   ]
  },
  {
   "cell_type": "code",
   "execution_count": 46,
   "id": "45d9ddb4-fd0f-45ca-bf59-c7071312b7bd",
   "metadata": {},
   "outputs": [],
   "source": [
    "b0 = 234"
   ]
  },
  {
   "cell_type": "code",
   "execution_count": 47,
   "id": "3099672a-bdca-4c6d-a7cd-2f1217c30c9c",
   "metadata": {},
   "outputs": [
    {
     "ename": "SyntaxError",
     "evalue": "invalid syntax. Maybe you meant '==' or ':=' instead of '='? (1293766135.py, line 1)",
     "output_type": "error",
     "traceback": [
      "\u001b[0;36m  Cell \u001b[0;32mIn[47], line 1\u001b[0;36m\u001b[0m\n\u001b[0;31m    @h = 3545\u001b[0m\n\u001b[0m     ^\u001b[0m\n\u001b[0;31mSyntaxError\u001b[0m\u001b[0;31m:\u001b[0m invalid syntax. Maybe you meant '==' or ':=' instead of '='?\n"
     ]
    }
   ],
   "source": [
    "@h = 3545"
   ]
  },
  {
   "cell_type": "code",
   "execution_count": 48,
   "id": "8fa43c52-7e4e-46d4-bc60-6bb58eb8dddf",
   "metadata": {},
   "outputs": [],
   "source": [
    "_a = 34"
   ]
  },
  {
   "cell_type": "code",
   "execution_count": 49,
   "id": "b77ac532-fa98-4a55-a387-3a9019bc5470",
   "metadata": {},
   "outputs": [
    {
     "ename": "SyntaxError",
     "evalue": "cannot assign to expression here. Maybe you meant '==' instead of '='? (1694425758.py, line 1)",
     "output_type": "error",
     "traceback": [
      "\u001b[0;36m  Cell \u001b[0;32mIn[49], line 1\u001b[0;36m\u001b[0m\n\u001b[0;31m    -b = 234\u001b[0m\n\u001b[0m    ^\u001b[0m\n\u001b[0;31mSyntaxError\u001b[0m\u001b[0;31m:\u001b[0m cannot assign to expression here. Maybe you meant '==' instead of '='?\n"
     ]
    }
   ],
   "source": [
    "-b = 234"
   ]
  },
  {
   "cell_type": "code",
   "execution_count": 50,
   "id": "840cde32-2705-4f90-8572-cca92d43e9eb",
   "metadata": {},
   "outputs": [
    {
     "ename": "SyntaxError",
     "evalue": "cannot assign to True (3093263138.py, line 1)",
     "output_type": "error",
     "traceback": [
      "\u001b[0;36m  Cell \u001b[0;32mIn[50], line 1\u001b[0;36m\u001b[0m\n\u001b[0;31m    True = 45\u001b[0m\n\u001b[0m    ^\u001b[0m\n\u001b[0;31mSyntaxError\u001b[0m\u001b[0;31m:\u001b[0m cannot assign to True\n"
     ]
    }
   ],
   "source": [
    "True = 45"
   ]
  },
  {
   "cell_type": "code",
   "execution_count": 51,
   "id": "b519dd3b-612d-4314-a7a3-dde7cebf150b",
   "metadata": {},
   "outputs": [],
   "source": [
    "int = 345"
   ]
  },
  {
   "cell_type": "code",
   "execution_count": 52,
   "id": "87f55640-7bec-4443-bdf6-5b4ae5c336ea",
   "metadata": {},
   "outputs": [
    {
     "data": {
      "text/plain": [
       "345"
      ]
     },
     "execution_count": 52,
     "metadata": {},
     "output_type": "execute_result"
    }
   ],
   "source": [
    "345"
   ]
  },
  {
   "cell_type": "code",
   "execution_count": 53,
   "id": "92bf47c4-4de1-4090-8bd1-1f07b14d9050",
   "metadata": {},
   "outputs": [],
   "source": [
    "b1 = True"
   ]
  },
  {
   "cell_type": "code",
   "execution_count": 55,
   "id": "336eeba7-dcc4-4983-a0e2-1ce065b2466e",
   "metadata": {},
   "outputs": [],
   "source": [
    "b2 = False"
   ]
  },
  {
   "cell_type": "code",
   "execution_count": 56,
   "id": "0f5d19f8-b6ca-45dc-8fec-2185c8d7d1e4",
   "metadata": {},
   "outputs": [
    {
     "data": {
      "text/plain": [
       "1"
      ]
     },
     "execution_count": 56,
     "metadata": {},
     "output_type": "execute_result"
    }
   ],
   "source": [
    "b1 - b2"
   ]
  },
  {
   "cell_type": "code",
   "execution_count": 57,
   "id": "50462fe2-6ac5-4599-aa64-8b2f9fab4aad",
   "metadata": {},
   "outputs": [
    {
     "data": {
      "text/plain": [
       "1"
      ]
     },
     "execution_count": 57,
     "metadata": {},
     "output_type": "execute_result"
    }
   ],
   "source": [
    "b1*b1"
   ]
  },
  {
   "cell_type": "code",
   "execution_count": 58,
   "id": "abd084b9-f4c1-4179-b9ae-ff72c1a759a8",
   "metadata": {},
   "outputs": [
    {
     "ename": "ZeroDivisionError",
     "evalue": "division by zero",
     "output_type": "error",
     "traceback": [
      "\u001b[0;31m---------------------------------------------------------------------------\u001b[0m",
      "\u001b[0;31mZeroDivisionError\u001b[0m                         Traceback (most recent call last)",
      "Cell \u001b[0;32mIn[58], line 1\u001b[0m\n\u001b[0;32m----> 1\u001b[0m \u001b[43mb1\u001b[49m\u001b[38;5;241;43m/\u001b[39;49m\u001b[43mb2\u001b[49m\n",
      "\u001b[0;31mZeroDivisionError\u001b[0m: division by zero"
     ]
    }
   ],
   "source": [
    "b1/b2"
   ]
  },
  {
   "cell_type": "code",
   "execution_count": 59,
   "id": "bfd82ff1-110f-47b4-adbe-6044b8d6e7d5",
   "metadata": {},
   "outputs": [],
   "source": [
    "s1 = 'my name is Bishal pandit'"
   ]
  },
  {
   "cell_type": "code",
   "execution_count": 60,
   "id": "36fbbb41-8f37-481b-bdb8-b18c41f13e71",
   "metadata": {},
   "outputs": [
    {
     "data": {
      "text/plain": [
       "'my name is Bishal pandit'"
      ]
     },
     "execution_count": 60,
     "metadata": {},
     "output_type": "execute_result"
    }
   ],
   "source": [
    "s1"
   ]
  },
  {
   "cell_type": "code",
   "execution_count": 61,
   "id": "0124a2e1-991a-483f-b41e-f3f3b684d78b",
   "metadata": {},
   "outputs": [
    {
     "data": {
      "text/plain": [
       "str"
      ]
     },
     "execution_count": 61,
     "metadata": {},
     "output_type": "execute_result"
    }
   ],
   "source": [
    "type(s1)"
   ]
  },
  {
   "cell_type": "code",
   "execution_count": 63,
   "id": "b9cd71ff-7f90-46b2-8770-5b4171b89c71",
   "metadata": {},
   "outputs": [],
   "source": [
    "s2 = \"this is my first python calss for data science master's\""
   ]
  },
  {
   "cell_type": "code",
   "execution_count": 64,
   "id": "0d3701b1-169e-4034-874f-46a4444543df",
   "metadata": {},
   "outputs": [
    {
     "data": {
      "text/plain": [
       "\"this is my first python calss for data science master's\""
      ]
     },
     "execution_count": 64,
     "metadata": {},
     "output_type": "execute_result"
    }
   ],
   "source": [
    "s2"
   ]
  },
  {
   "cell_type": "code",
   "execution_count": 69,
   "id": "39737e11-0187-40db-a8f8-69de68e1cf1c",
   "metadata": {},
   "outputs": [],
   "source": [
    "#this is my code to create a string variable with quotes\n",
    "s3 = 'this is my first python calss for data science master\"s'"
   ]
  },
  {
   "cell_type": "code",
   "execution_count": 66,
   "id": "0707f146-31f3-4406-9b6a-d0d5471bb9a2",
   "metadata": {},
   "outputs": [
    {
     "data": {
      "text/plain": [
       "'this is my first python calss for data science master\"s'"
      ]
     },
     "execution_count": 66,
     "metadata": {},
     "output_type": "execute_result"
    }
   ],
   "source": [
    "s3"
   ]
  },
  {
   "cell_type": "code",
   "execution_count": 72,
   "id": "6d45fd3f-f599-4076-a44b-f00ffadfd467",
   "metadata": {},
   "outputs": [],
   "source": [
    "'''this is my first python class\n",
    "i am tring to lear variable declaration\n",
    "so far i learnt int,boolean,string,complex nymber,flaot variable declaration'''\n",
    "a = 10"
   ]
  },
  {
   "cell_type": "code",
   "execution_count": 73,
   "id": "1b91ebfb-8b0d-4773-abb5-bd6d06523602",
   "metadata": {},
   "outputs": [
    {
     "data": {
      "text/plain": [
       "10"
      ]
     },
     "execution_count": 73,
     "metadata": {},
     "output_type": "execute_result"
    }
   ],
   "source": [
    "a"
   ]
  },
  {
   "cell_type": "code",
   "execution_count": 74,
   "id": "cb351624-69ea-4a58-bc9f-eea647ce1dae",
   "metadata": {},
   "outputs": [],
   "source": [
    "s1 = \"sudh\""
   ]
  },
  {
   "cell_type": "code",
   "execution_count": 1,
   "id": "bf3bae78-82b7-4f20-b66a-d00577a07df0",
   "metadata": {},
   "outputs": [],
   "source": [
    "a = 10"
   ]
  },
  {
   "cell_type": "code",
   "execution_count": 83,
   "id": "15b8c780-f3f5-44e4-9bb3-e5537fcbb2f4",
   "metadata": {},
   "outputs": [
    {
     "data": {
      "text/plain": [
       "'sudh10'"
      ]
     },
     "execution_count": 83,
     "metadata": {},
     "output_type": "execute_result"
    }
   ],
   "source": [
    "s1+ str(a)"
   ]
  },
  {
   "cell_type": "code",
   "execution_count": 90,
   "id": "4a4dc9a7-2b9c-4cdb-a58b-45b491591cc7",
   "metadata": {},
   "outputs": [
    {
     "data": {
      "text/plain": [
       "'sudh + kumar'"
      ]
     },
     "execution_count": 90,
     "metadata": {},
     "output_type": "execute_result"
    }
   ],
   "source": [
    "'sudh' \" + \" 'kumar'"
   ]
  },
  {
   "cell_type": "code",
   "execution_count": 79,
   "id": "4e0b1b05-566f-4cc0-8835-158e1b85045f",
   "metadata": {},
   "outputs": [
    {
     "data": {
      "text/plain": [
       "10"
      ]
     },
     "execution_count": 79,
     "metadata": {},
     "output_type": "execute_result"
    }
   ],
   "source": [
    "a"
   ]
  },
  {
   "cell_type": "code",
   "execution_count": 80,
   "id": "314a85e7-b33b-43ed-bb98-64562c6bfa05",
   "metadata": {},
   "outputs": [
    {
     "data": {
      "text/plain": [
       "int"
      ]
     },
     "execution_count": 80,
     "metadata": {},
     "output_type": "execute_result"
    }
   ],
   "source": [
    "type(a)"
   ]
  },
  {
   "cell_type": "code",
   "execution_count": 81,
   "id": "8ad7a48f-69b4-4d22-95d9-d407cceef438",
   "metadata": {},
   "outputs": [
    {
     "data": {
      "text/plain": [
       "'10'"
      ]
     },
     "execution_count": 81,
     "metadata": {},
     "output_type": "execute_result"
    }
   ],
   "source": [
    "str(a)"
   ]
  },
  {
   "cell_type": "code",
   "execution_count": 82,
   "id": "077a2bfc-edcc-4c5d-b042-765168475116",
   "metadata": {},
   "outputs": [
    {
     "data": {
      "text/plain": [
       "'10'"
      ]
     },
     "execution_count": 82,
     "metadata": {},
     "output_type": "execute_result"
    }
   ],
   "source": [
    "'10'"
   ]
  },
  {
   "cell_type": "code",
   "execution_count": 2,
   "id": "312b96f8-e288-453f-a6b6-033381f44c60",
   "metadata": {},
   "outputs": [],
   "source": [
    "b = str(a)"
   ]
  },
  {
   "cell_type": "code",
   "execution_count": 92,
   "id": "ffb04736-0e4b-40fd-9b03-53564b7c3510",
   "metadata": {},
   "outputs": [
    {
     "data": {
      "text/plain": [
       "'10'"
      ]
     },
     "execution_count": 92,
     "metadata": {},
     "output_type": "execute_result"
    }
   ],
   "source": [
    "b"
   ]
  },
  {
   "cell_type": "code",
   "execution_count": 3,
   "id": "c87ee2f5-d967-47e4-99aa-8435ebdb6cd0",
   "metadata": {},
   "outputs": [
    {
     "data": {
      "text/plain": [
       "10"
      ]
     },
     "execution_count": 3,
     "metadata": {},
     "output_type": "execute_result"
    }
   ],
   "source": [
    "int(b)"
   ]
  },
  {
   "cell_type": "code",
   "execution_count": 4,
   "id": "b40dd97a-5819-4e7e-983e-7712b2572f6c",
   "metadata": {},
   "outputs": [],
   "source": [
    "s = \"sudh\""
   ]
  },
  {
   "cell_type": "code",
   "execution_count": 5,
   "id": "af4e2f3e-6e86-4e27-b43e-c4ff08e5ddb0",
   "metadata": {},
   "outputs": [
    {
     "ename": "ValueError",
     "evalue": "invalid literal for int() with base 10: 'sudh'",
     "output_type": "error",
     "traceback": [
      "\u001b[0;31m---------------------------------------------------------------------------\u001b[0m",
      "\u001b[0;31mValueError\u001b[0m                                Traceback (most recent call last)",
      "Cell \u001b[0;32mIn[5], line 1\u001b[0m\n\u001b[0;32m----> 1\u001b[0m \u001b[38;5;28;43mint\u001b[39;49m\u001b[43m(\u001b[49m\u001b[43ms\u001b[49m\u001b[43m)\u001b[49m\n",
      "\u001b[0;31mValueError\u001b[0m: invalid literal for int() with base 10: 'sudh'"
     ]
    }
   ],
   "source": [
    "int(s)"
   ]
  },
  {
   "cell_type": "code",
   "execution_count": 6,
   "id": "b92139c4-b11d-4266-beb3-226369a44ec8",
   "metadata": {},
   "outputs": [],
   "source": [
    "a = 453253"
   ]
  },
  {
   "cell_type": "code",
   "execution_count": 7,
   "id": "c5eb7252-b0ff-44ad-a1f3-aa80f0b4da8c",
   "metadata": {},
   "outputs": [
    {
     "name": "stdin",
     "output_type": "stream",
     "text": [
      " 5687\n"
     ]
    }
   ],
   "source": [
    "b = int(input())"
   ]
  },
  {
   "cell_type": "code",
   "execution_count": 8,
   "id": "5931418f-3a55-41c1-ba83-5d1ec462a708",
   "metadata": {},
   "outputs": [
    {
     "data": {
      "text/plain": [
       "5687"
      ]
     },
     "execution_count": 8,
     "metadata": {},
     "output_type": "execute_result"
    }
   ],
   "source": [
    "b"
   ]
  },
  {
   "cell_type": "code",
   "execution_count": 16,
   "id": "54371140-e25b-4553-b6d9-ff078439a46a",
   "metadata": {},
   "outputs": [
    {
     "name": "stdin",
     "output_type": "stream",
     "text": [
      " False\n"
     ]
    }
   ],
   "source": [
    "#This is not working\n",
    "d = bool(input())"
   ]
  },
  {
   "cell_type": "code",
   "execution_count": 18,
   "id": "13fd383b-941a-49db-b3f7-89ef8eaa30e5",
   "metadata": {},
   "outputs": [
    {
     "data": {
      "text/plain": [
       "True"
      ]
     },
     "execution_count": 18,
     "metadata": {},
     "output_type": "execute_result"
    }
   ],
   "source": [
    "d"
   ]
  },
  {
   "cell_type": "code",
   "execution_count": 19,
   "id": "8499ff24-7665-4b35-9db3-c371574586e4",
   "metadata": {},
   "outputs": [],
   "source": [
    "s = \"sudh\""
   ]
  },
  {
   "cell_type": "code",
   "execution_count": 22,
   "id": "065b31ba-8a0a-4061-9577-ef34c61ed59a",
   "metadata": {},
   "outputs": [
    {
     "data": {
      "text/plain": [
       "'u'"
      ]
     },
     "execution_count": 22,
     "metadata": {},
     "output_type": "execute_result"
    }
   ],
   "source": [
    "s[1]"
   ]
  },
  {
   "cell_type": "code",
   "execution_count": 23,
   "id": "c719aca2-f972-4138-b415-d77972d13505",
   "metadata": {},
   "outputs": [
    {
     "ename": "IndexError",
     "evalue": "string index out of range",
     "output_type": "error",
     "traceback": [
      "\u001b[0;31m---------------------------------------------------------------------------\u001b[0m",
      "\u001b[0;31mIndexError\u001b[0m                                Traceback (most recent call last)",
      "Cell \u001b[0;32mIn[23], line 1\u001b[0m\n\u001b[0;32m----> 1\u001b[0m \u001b[43ms\u001b[49m\u001b[43m[\u001b[49m\u001b[38;5;241;43m100\u001b[39;49m\u001b[43m]\u001b[49m\n",
      "\u001b[0;31mIndexError\u001b[0m: string index out of range"
     ]
    }
   ],
   "source": [
    "s[100]"
   ]
  },
  {
   "cell_type": "code",
   "execution_count": 25,
   "id": "49719e20-feea-4c70-828f-c53db9f19f22",
   "metadata": {},
   "outputs": [
    {
     "data": {
      "text/plain": [
       "'s'"
      ]
     },
     "execution_count": 25,
     "metadata": {},
     "output_type": "execute_result"
    }
   ],
   "source": [
    "s[-4]"
   ]
  },
  {
   "cell_type": "code",
   "execution_count": 26,
   "id": "d04b1884-244f-432d-8e88-be07781150aa",
   "metadata": {},
   "outputs": [
    {
     "ename": "IndexError",
     "evalue": "string index out of range",
     "output_type": "error",
     "traceback": [
      "\u001b[0;31m---------------------------------------------------------------------------\u001b[0m",
      "\u001b[0;31mIndexError\u001b[0m                                Traceback (most recent call last)",
      "Cell \u001b[0;32mIn[26], line 1\u001b[0m\n\u001b[0;32m----> 1\u001b[0m \u001b[43ms\u001b[49m\u001b[43m[\u001b[49m\u001b[38;5;241;43m-\u001b[39;49m\u001b[38;5;241;43m345\u001b[39;49m\u001b[43m]\u001b[49m\n",
      "\u001b[0;31mIndexError\u001b[0m: string index out of range"
     ]
    }
   ],
   "source": [
    "s[-345]"
   ]
  },
  {
   "cell_type": "code",
   "execution_count": 27,
   "id": "5279f592-3a99-453b-b59b-4eb4d33e413d",
   "metadata": {},
   "outputs": [],
   "source": [
    "s1 = 'pwskills'"
   ]
  },
  {
   "cell_type": "code",
   "execution_count": 28,
   "id": "c86eff32-1d2b-4bd8-8d80-c2dcbddf3154",
   "metadata": {},
   "outputs": [
    {
     "data": {
      "text/plain": [
       "'pw'"
      ]
     },
     "execution_count": 28,
     "metadata": {},
     "output_type": "execute_result"
    }
   ],
   "source": [
    "s1[0:2]"
   ]
  },
  {
   "cell_type": "code",
   "execution_count": 29,
   "id": "0edbe817-684e-4759-8feb-77448588aef3",
   "metadata": {},
   "outputs": [
    {
     "data": {
      "text/plain": [
       "'skill'"
      ]
     },
     "execution_count": 29,
     "metadata": {},
     "output_type": "execute_result"
    }
   ],
   "source": [
    "s1[2:7]"
   ]
  },
  {
   "cell_type": "code",
   "execution_count": 30,
   "id": "fef05319-ee5a-4ccd-8a73-33b5b9e8ae4e",
   "metadata": {},
   "outputs": [
    {
     "data": {
      "text/plain": [
       "'skills'"
      ]
     },
     "execution_count": 30,
     "metadata": {},
     "output_type": "execute_result"
    }
   ],
   "source": [
    "s1[2:8]"
   ]
  },
  {
   "cell_type": "code",
   "execution_count": 31,
   "id": "1397f30a-073c-4905-809e-a5addda806c7",
   "metadata": {},
   "outputs": [
    {
     "data": {
      "text/plain": [
       "'skills'"
      ]
     },
     "execution_count": 31,
     "metadata": {},
     "output_type": "execute_result"
    }
   ],
   "source": [
    "s1[2:300]"
   ]
  },
  {
   "cell_type": "code",
   "execution_count": 32,
   "id": "f7f5796d-8049-4461-8768-81725be8d172",
   "metadata": {},
   "outputs": [
    {
     "data": {
      "text/plain": [
       "'skills'"
      ]
     },
     "execution_count": 32,
     "metadata": {},
     "output_type": "execute_result"
    }
   ],
   "source": [
    "s1[2:]"
   ]
  },
  {
   "cell_type": "code",
   "execution_count": 33,
   "id": "6ea154d6-92c0-439c-a526-70c9b16f0b5c",
   "metadata": {},
   "outputs": [
    {
     "data": {
      "text/plain": [
       "'pwskill'"
      ]
     },
     "execution_count": 33,
     "metadata": {},
     "output_type": "execute_result"
    }
   ],
   "source": [
    "s1[0:7]"
   ]
  },
  {
   "cell_type": "code",
   "execution_count": 34,
   "id": "7815cebc-910c-4c0a-94af-406802a8e045",
   "metadata": {},
   "outputs": [
    {
     "data": {
      "text/plain": [
       "'psil'"
      ]
     },
     "execution_count": 34,
     "metadata": {},
     "output_type": "execute_result"
    }
   ],
   "source": [
    "s1[0:7:2]"
   ]
  },
  {
   "cell_type": "code",
   "execution_count": 36,
   "id": "da6c5cce-0d38-45c5-95c2-5e113014ba38",
   "metadata": {},
   "outputs": [
    {
     "data": {
      "text/plain": [
       "'slli'"
      ]
     },
     "execution_count": 36,
     "metadata": {},
     "output_type": "execute_result"
    }
   ],
   "source": [
    "s1[7:3:-1]"
   ]
  },
  {
   "cell_type": "code",
   "execution_count": 37,
   "id": "e8d767fc-2109-48aa-8baa-10a997f90e6c",
   "metadata": {},
   "outputs": [
    {
     "data": {
      "text/plain": [
       "'slli'"
      ]
     },
     "execution_count": 37,
     "metadata": {},
     "output_type": "execute_result"
    }
   ],
   "source": [
    "s1[-1:-5:-1]"
   ]
  },
  {
   "cell_type": "code",
   "execution_count": 43,
   "id": "531f0dce-386d-49a4-a4c8-00e662a14a1e",
   "metadata": {},
   "outputs": [
    {
     "data": {
      "text/plain": [
       "'sllikswp'"
      ]
     },
     "execution_count": 43,
     "metadata": {},
     "output_type": "execute_result"
    }
   ],
   "source": [
    "s1[7::-1]"
   ]
  },
  {
   "cell_type": "code",
   "execution_count": null,
   "id": "ac90e0e9-4872-4bcd-8419-1af463013088",
   "metadata": {},
   "outputs": [],
   "source": []
  },
  {
   "cell_type": "code",
   "execution_count": 44,
   "id": "baa673c1-553d-4685-9def-6c1d4012f2f9",
   "metadata": {},
   "outputs": [
    {
     "data": {
      "text/plain": [
       "'sllikswp'"
      ]
     },
     "execution_count": 44,
     "metadata": {},
     "output_type": "execute_result"
    }
   ],
   "source": [
    "s1[::-1]"
   ]
  },
  {
   "cell_type": "code",
   "execution_count": 46,
   "id": "697b4fe5-41b8-4fd2-b646-38fbfc4ff5b4",
   "metadata": {},
   "outputs": [
    {
     "ename": "TypeError",
     "evalue": "'str' object does not support item assignment",
     "output_type": "error",
     "traceback": [
      "\u001b[0;31m---------------------------------------------------------------------------\u001b[0m",
      "\u001b[0;31mTypeError\u001b[0m                                 Traceback (most recent call last)",
      "Cell \u001b[0;32mIn[46], line 1\u001b[0m\n\u001b[0;32m----> 1\u001b[0m \u001b[43ms1\u001b[49m\u001b[43m[\u001b[49m\u001b[38;5;241;43m0\u001b[39;49m\u001b[43m]\u001b[49m \u001b[38;5;241m=\u001b[39m\u001b[38;5;124m'\u001b[39m\u001b[38;5;124ms\u001b[39m\u001b[38;5;124m'\u001b[39m\n",
      "\u001b[0;31mTypeError\u001b[0m: 'str' object does not support item assignment"
     ]
    }
   ],
   "source": [
    "s1[0] ='s'"
   ]
  },
  {
   "cell_type": "code",
   "execution_count": null,
   "id": "ed01f674-f216-4ea9-a492-b8518234bca3",
   "metadata": {},
   "outputs": [],
   "source": []
  }
 ],
 "metadata": {
  "kernelspec": {
   "display_name": "Python 3 (ipykernel)",
   "language": "python",
   "name": "python3"
  },
  "language_info": {
   "codemirror_mode": {
    "name": "ipython",
    "version": 3
   },
   "file_extension": ".py",
   "mimetype": "text/x-python",
   "name": "python",
   "nbconvert_exporter": "python",
   "pygments_lexer": "ipython3",
   "version": "3.10.8"
  }
 },
 "nbformat": 4,
 "nbformat_minor": 5
}
