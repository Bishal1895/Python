{
 "cells": [
  {
   "cell_type": "code",
   "execution_count": 9,
   "id": "e64fdf67-299f-459c-9434-6e9ce1e7c865",
   "metadata": {},
   "outputs": [
    {
     "data": {
      "text/plain": [
       "'1. Declare two variables, `x` and `y`, and assign them integer values.\\nSwap the values of these variables without using any temporary\\nvariable.'"
      ]
     },
     "execution_count": 9,
     "metadata": {},
     "output_type": "execute_result"
    }
   ],
   "source": [
    "'''1. Declare two variables, `x` and `y`, and assign them integer values.\n",
    "Swap the values of these variables without using any temporary\n",
    "variable.'''"
   ]
  },
  {
   "cell_type": "code",
   "execution_count": 1,
   "id": "412d0faa-20ca-418e-85f8-786b6dc0b972",
   "metadata": {},
   "outputs": [],
   "source": [
    "x=1"
   ]
  },
  {
   "cell_type": "code",
   "execution_count": 2,
   "id": "5eeac877-68bc-4930-96c3-1754c418840f",
   "metadata": {},
   "outputs": [
    {
     "data": {
      "text/plain": [
       "1"
      ]
     },
     "execution_count": 2,
     "metadata": {},
     "output_type": "execute_result"
    }
   ],
   "source": [
    "x"
   ]
  },
  {
   "cell_type": "code",
   "execution_count": 3,
   "id": "68a546ef-c747-4761-9fcd-aa3838191aa9",
   "metadata": {},
   "outputs": [],
   "source": [
    "y=2"
   ]
  },
  {
   "cell_type": "code",
   "execution_count": 4,
   "id": "61676b39-10d0-4769-9b17-194949741195",
   "metadata": {},
   "outputs": [
    {
     "data": {
      "text/plain": [
       "2"
      ]
     },
     "execution_count": 4,
     "metadata": {},
     "output_type": "execute_result"
    }
   ],
   "source": [
    "y"
   ]
  },
  {
   "cell_type": "code",
   "execution_count": 5,
   "id": "2f07cf8f-7aab-408d-91c7-b27aa5731d0c",
   "metadata": {},
   "outputs": [],
   "source": [
    "x,y=y,x"
   ]
  },
  {
   "cell_type": "code",
   "execution_count": 6,
   "id": "365d5d58-88b4-4a7e-8803-a3c923183fce",
   "metadata": {},
   "outputs": [
    {
     "data": {
      "text/plain": [
       "2"
      ]
     },
     "execution_count": 6,
     "metadata": {},
     "output_type": "execute_result"
    }
   ],
   "source": [
    "x"
   ]
  },
  {
   "cell_type": "code",
   "execution_count": 7,
   "id": "05e9d5da-ac37-45d2-b8a7-d585a869ddb0",
   "metadata": {},
   "outputs": [
    {
     "data": {
      "text/plain": [
       "1"
      ]
     },
     "execution_count": 7,
     "metadata": {},
     "output_type": "execute_result"
    }
   ],
   "source": [
    "y"
   ]
  },
  {
   "cell_type": "code",
   "execution_count": 10,
   "id": "53d824b3-c08d-479c-8596-c7abccdef061",
   "metadata": {},
   "outputs": [
    {
     "data": {
      "text/plain": [
       "'2. Create a program that calculates the area of a rectangle. Take the\\nlength and width as inputs from the user and store them in variables.\\nCalculate and display the area.'"
      ]
     },
     "execution_count": 10,
     "metadata": {},
     "output_type": "execute_result"
    }
   ],
   "source": [
    "'''2. Create a program that calculates the area of a rectangle. Take the\n",
    "length and width as inputs from the user and store them in variables.\n",
    "Calculate and display the area.'''"
   ]
  },
  {
   "cell_type": "code",
   "execution_count": 11,
   "id": "de6679c3-38b9-4780-b805-2c6c22c3682e",
   "metadata": {},
   "outputs": [],
   "source": [
    "Length = 2.5"
   ]
  },
  {
   "cell_type": "code",
   "execution_count": 12,
   "id": "afe48b70-8553-4851-a507-f96eb8fa6249",
   "metadata": {},
   "outputs": [
    {
     "data": {
      "text/plain": [
       "float"
      ]
     },
     "execution_count": 12,
     "metadata": {},
     "output_type": "execute_result"
    }
   ],
   "source": [
    "type(Length)"
   ]
  },
  {
   "cell_type": "code",
   "execution_count": 13,
   "id": "018d27c5-7422-4d53-a8dc-1f43758e091c",
   "metadata": {},
   "outputs": [],
   "source": [
    "Width = 5.5"
   ]
  },
  {
   "cell_type": "code",
   "execution_count": 14,
   "id": "f751e877-33df-4ed7-bad2-df06ec149596",
   "metadata": {},
   "outputs": [
    {
     "data": {
      "text/plain": [
       "float"
      ]
     },
     "execution_count": 14,
     "metadata": {},
     "output_type": "execute_result"
    }
   ],
   "source": [
    "type(Width)"
   ]
  },
  {
   "cell_type": "code",
   "execution_count": 15,
   "id": "e390f0ac-333a-4a84-92de-22445e2f72ae",
   "metadata": {},
   "outputs": [],
   "source": [
    "Area = Length * Width"
   ]
  },
  {
   "cell_type": "code",
   "execution_count": 16,
   "id": "966e10b3-26dc-4f28-b3a1-3e33e9482439",
   "metadata": {},
   "outputs": [
    {
     "data": {
      "text/plain": [
       "13.75"
      ]
     },
     "execution_count": 16,
     "metadata": {},
     "output_type": "execute_result"
    }
   ],
   "source": [
    "Area"
   ]
  },
  {
   "cell_type": "code",
   "execution_count": 17,
   "id": "64184039-a863-49c5-92f6-b139e5fa809c",
   "metadata": {},
   "outputs": [
    {
     "data": {
      "text/plain": [
       "'3. Write a Python program that converts temperature from Celsius to\\nFahrenheit. Take the temperature in Celsius as input, store it in a\\nvariable, convert it to Fahrenheit, and display the result.'"
      ]
     },
     "execution_count": 17,
     "metadata": {},
     "output_type": "execute_result"
    }
   ],
   "source": [
    "'''3. Write a Python program that converts temperature from Celsius to\n",
    "Fahrenheit. Take the temperature in Celsius as input, store it in a\n",
    "variable, convert it to Fahrenheit, and display the result.'''"
   ]
  },
  {
   "cell_type": "code",
   "execution_count": 40,
   "id": "c978ee01-0302-4c83-9732-058781661215",
   "metadata": {},
   "outputs": [],
   "source": [
    "Celcius = 50"
   ]
  },
  {
   "cell_type": "code",
   "execution_count": 39,
   "id": "e3094dec-b920-4462-8876-4eb485a1a185",
   "metadata": {},
   "outputs": [
    {
     "data": {
      "text/plain": [
       "int"
      ]
     },
     "execution_count": 39,
     "metadata": {},
     "output_type": "execute_result"
    }
   ],
   "source": [
    "type(Celcius)"
   ]
  },
  {
   "cell_type": "code",
   "execution_count": 41,
   "id": "961b8bf2-c579-45ed-abc3-112bc81abc6b",
   "metadata": {},
   "outputs": [
    {
     "data": {
      "text/plain": [
       "50"
      ]
     },
     "execution_count": 41,
     "metadata": {},
     "output_type": "execute_result"
    }
   ],
   "source": [
    "Celcius"
   ]
  },
  {
   "cell_type": "code",
   "execution_count": 42,
   "id": "22efb4be-c7dc-4814-8805-9168d10b39cb",
   "metadata": {},
   "outputs": [],
   "source": [
    "Fahrenheit = (Celcius * 1.8) + 32"
   ]
  },
  {
   "cell_type": "code",
   "execution_count": 43,
   "id": "55e25d73-c2eb-45cc-a423-2fe5aa24bb59",
   "metadata": {},
   "outputs": [
    {
     "data": {
      "text/plain": [
       "122.0"
      ]
     },
     "execution_count": 43,
     "metadata": {},
     "output_type": "execute_result"
    }
   ],
   "source": [
    "Fahrenheit"
   ]
  },
  {
   "cell_type": "code",
   "execution_count": 1,
   "id": "ad381916-07a1-48ef-abbf-61dd0ae70788",
   "metadata": {},
   "outputs": [
    {
     "data": {
      "text/plain": [
       "'1. Write a Python program that takes a string as input and prints the length of\\nthe string.'"
      ]
     },
     "execution_count": 1,
     "metadata": {},
     "output_type": "execute_result"
    }
   ],
   "source": [
    "'''1. Write a Python program that takes a string as input and prints the length of\n",
    "the string.'''"
   ]
  },
  {
   "cell_type": "code",
   "execution_count": 14,
   "id": "2ac30f2c-ca35-4af4-bbdc-42d5f717b383",
   "metadata": {},
   "outputs": [
    {
     "name": "stdin",
     "output_type": "stream",
     "text": [
      " Bishal\n"
     ]
    }
   ],
   "source": [
    "Name=input()"
   ]
  },
  {
   "cell_type": "code",
   "execution_count": 15,
   "id": "35df702c-5f7b-4b36-aa5b-9c822db4fadd",
   "metadata": {},
   "outputs": [],
   "source": [
    "length=len(Name)"
   ]
  },
  {
   "cell_type": "code",
   "execution_count": 16,
   "id": "55aa23cc-1fb1-4633-8e5f-cd0d7b7d0a57",
   "metadata": {},
   "outputs": [
    {
     "name": "stdout",
     "output_type": "stream",
     "text": [
      "6\n"
     ]
    }
   ],
   "source": [
    "print(length)"
   ]
  },
  {
   "cell_type": "code",
   "execution_count": 17,
   "id": "6144e253-60a8-43d4-b0c6-86c881911904",
   "metadata": {},
   "outputs": [
    {
     "data": {
      "text/plain": [
       "'2. Create a program that takes a sentence from the user and counts the number\\nof vowels (a, e, i, o, u) in the string.'"
      ]
     },
     "execution_count": 17,
     "metadata": {},
     "output_type": "execute_result"
    }
   ],
   "source": [
    "'''2. Create a program that takes a sentence from the user and counts the number\n",
    "of vowels (a, e, i, o, u) in the string.'''"
   ]
  },
  {
   "cell_type": "code",
   "execution_count": 18,
   "id": "96dc9aec-b296-447b-a0b6-031123c4969d",
   "metadata": {},
   "outputs": [],
   "source": [
    "#Not able to solve above question"
   ]
  },
  {
   "cell_type": "code",
   "execution_count": 19,
   "id": "7705a79b-8784-461c-90a5-e8716e5d4135",
   "metadata": {},
   "outputs": [
    {
     "data": {
      "text/plain": [
       "'3. Given a string, reverse the order of characters using string slicing and print\\nthe reversed string.'"
      ]
     },
     "execution_count": 19,
     "metadata": {},
     "output_type": "execute_result"
    }
   ],
   "source": [
    "'''3. Given a string, reverse the order of characters using string slicing and print\n",
    "the reversed string.'''"
   ]
  },
  {
   "cell_type": "code",
   "execution_count": 23,
   "id": "c80da9f9-4bc8-4018-9e1c-c4d8e309216a",
   "metadata": {},
   "outputs": [],
   "source": [
    "r=\"Life\""
   ]
  },
  {
   "cell_type": "code",
   "execution_count": 24,
   "id": "23cafda4-bc85-4cbf-b945-9b5d05c349f4",
   "metadata": {},
   "outputs": [
    {
     "data": {
      "text/plain": [
       "str"
      ]
     },
     "execution_count": 24,
     "metadata": {},
     "output_type": "execute_result"
    }
   ],
   "source": [
    "type(r)"
   ]
  },
  {
   "cell_type": "code",
   "execution_count": 26,
   "id": "6c3ec1b3-270f-4bd6-80ae-b212f357077a",
   "metadata": {},
   "outputs": [],
   "source": [
    "ym=r[::-1]"
   ]
  },
  {
   "cell_type": "code",
   "execution_count": 27,
   "id": "118ea599-113a-42ab-b005-b0d06362b8c1",
   "metadata": {},
   "outputs": [
    {
     "name": "stdout",
     "output_type": "stream",
     "text": [
      "efiL\n"
     ]
    }
   ],
   "source": [
    "print(ym)"
   ]
  },
  {
   "cell_type": "code",
   "execution_count": 53,
   "id": "42cbad17-847d-4205-8490-7f2da655e79d",
   "metadata": {},
   "outputs": [
    {
     "data": {
      "text/plain": [
       "'4.Write a program that takes a string as input and checks if it is a palindrome\\n(reads the same forwards and backwards).'"
      ]
     },
     "execution_count": 53,
     "metadata": {},
     "output_type": "execute_result"
    }
   ],
   "source": [
    "'''4.Write a program that takes a string as input and checks if it is a palindrome\n",
    "(reads the same forwards and backwards).'''"
   ]
  },
  {
   "cell_type": "code",
   "execution_count": 50,
   "id": "e9bf17b6-0289-4668-b2d8-2f72cd4c553f",
   "metadata": {},
   "outputs": [
    {
     "name": "stdin",
     "output_type": "stream",
     "text": [
      " kayak\n"
     ]
    }
   ],
   "source": [
    "data=input()"
   ]
  },
  {
   "cell_type": "code",
   "execution_count": 51,
   "id": "6afbaa91-865d-4d8e-bca8-ac007fbf31c5",
   "metadata": {},
   "outputs": [],
   "source": [
    "reverse=data[::-1]"
   ]
  },
  {
   "cell_type": "code",
   "execution_count": 52,
   "id": "3973b165-6a77-4402-83a9-d67bd6ddbed9",
   "metadata": {},
   "outputs": [
    {
     "name": "stdout",
     "output_type": "stream",
     "text": [
      "This input is palindrome\n"
     ]
    }
   ],
   "source": [
    "if data==reverse:print(\"This input is palindrome\") \n",
    "else:print(\"This is not a palindrome\")"
   ]
  },
  {
   "cell_type": "code",
   "execution_count": 54,
   "id": "2dfa7f00-ccba-4eec-a522-9906769ed4d5",
   "metadata": {},
   "outputs": [
    {
     "data": {
      "text/plain": [
       "'5.Create a program that takes a string as input and removes all the spaces from\\nit. Print the modified string without spaces.'"
      ]
     },
     "execution_count": 54,
     "metadata": {},
     "output_type": "execute_result"
    }
   ],
   "source": [
    "'''5.Create a program that takes a string as input and removes all the spaces from\n",
    "it. Print the modified string without spaces.'''"
   ]
  },
  {
   "cell_type": "code",
   "execution_count": 69,
   "id": "873fa6e8-7a87-44cf-acc8-fb232cabb8d9",
   "metadata": {},
   "outputs": [
    {
     "name": "stdin",
     "output_type": "stream",
     "text": [
      " Car and Bike\n"
     ]
    }
   ],
   "source": [
    "word=input()"
   ]
  },
  {
   "cell_type": "code",
   "execution_count": 77,
   "id": "fe5eae3d-3e17-48bd-99b1-7f25b76c82b0",
   "metadata": {},
   "outputs": [],
   "source": [
    "without_space=word.replace(\"Car and Bike\",\"CarandBike\")"
   ]
  },
  {
   "cell_type": "code",
   "execution_count": 78,
   "id": "853f56dd-67d1-4bea-824c-93b526bf25b5",
   "metadata": {},
   "outputs": [
    {
     "name": "stdout",
     "output_type": "stream",
     "text": [
      "CarandBike\n"
     ]
    }
   ],
   "source": [
    "print(without_space)"
   ]
  },
  {
   "cell_type": "code",
   "execution_count": null,
   "id": "3f843e4f-5d6f-4181-a48e-9f51b2fbcc59",
   "metadata": {},
   "outputs": [],
   "source": []
  }
 ],
 "metadata": {
  "kernelspec": {
   "display_name": "Python 3 (ipykernel)",
   "language": "python",
   "name": "python3"
  },
  "language_info": {
   "codemirror_mode": {
    "name": "ipython",
    "version": 3
   },
   "file_extension": ".py",
   "mimetype": "text/x-python",
   "name": "python",
   "nbconvert_exporter": "python",
   "pygments_lexer": "ipython3",
   "version": "3.10.8"
  }
 },
 "nbformat": 4,
 "nbformat_minor": 5
}
